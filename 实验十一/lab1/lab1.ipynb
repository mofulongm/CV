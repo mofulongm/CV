{
 "cells": [
  {
   "cell_type": "code",
   "execution_count": 1,
   "source": [
    "import numpy as np\r\n",
    "import cv2 as cv\r\n",
    "\r\n",
    "import matplotlib.pyplot as plt\r\n",
    "\r\n",
    "img1 = cv.imread(\"C:\\\\Users\\\\15339\\\\Desktop\\\\pictures\\\\hero.jpg\")\r\n",
    "img2 = cv.imread(\"C:\\\\Users\\\\15339\\\\Desktop\\\\pictures\\\\hero2.jpg\")\r\n",
    "matcher = cv.DescriptorMatcher_create('BruteForce')\r\n",
    "sift = cv.xfeatures2d.SIFT_create()\r\n",
    "(kp1, des1) = sift.detectAndCompute(img1, None)\r\n",
    "kp1 = np.float32([kp.pt for kp in kp1]) \r\n",
    "(kp2, des2) = sift.detectAndCompute(img2, None)\r\n",
    "kp2 = np.float32([kp.pt for kp in kp2]) \r\n",
    "matches = matcher.knnMatch(des1, des2, 2)  \r\n",
    "good = []\r\n",
    "for m in matches:\r\n",
    "    if len(m) == 2 and  m[0].distance <=0.25* m[1].distance:\r\n",
    "        good.append((m[0].trainIdx, m[0].queryIdx))\r\n",
    "(hA,wA) = img1.shape[:2]\r\n",
    "(hB,wB) = img2.shape[:2]\r\n",
    "vis = np.zeros((max(hA,hB), wA+wB, 3), dtype='uint8')\r\n",
    "vis[0:hA, 0:wA] = img1\r\n",
    "vis[0:hB, wA:] = img2\r\n",
    "i=0\r\n",
    "for (queryIdx,trainIdx) in good:\r\n",
    "        if queryIdx<1582 and trainIdx<1582 and i<=100:\r\n",
    "            i=i+1\r\n",
    "            ptA = (int(kp1[queryIdx][0]), int(kp1[queryIdx][1]))\r\n",
    "            ptB = (int(kp2[trainIdx][0])+wA, int(kp2[trainIdx][1]))\r\n",
    "            cv.line(vis, ptA, ptB, (0, 255, 0), 1)\r\n",
    "cv.imshow(\"vis\",vis)\r\n",
    "cv.waitKey(0)\r\n",
    "cv.destroyAllWindows()"
   ],
   "outputs": [],
   "metadata": {}
  }
 ],
 "metadata": {
  "orig_nbformat": 4,
  "language_info": {
   "name": "python",
   "version": "3.7.6",
   "mimetype": "text/x-python",
   "codemirror_mode": {
    "name": "ipython",
    "version": 3
   },
   "pygments_lexer": "ipython3",
   "nbconvert_exporter": "python",
   "file_extension": ".py"
  },
  "kernelspec": {
   "name": "python3",
   "display_name": "Python 3.7.6 64-bit ('cv': conda)"
  },
  "interpreter": {
   "hash": "6bce09cd2f393758ff7b4f3c8fd52ce45c8c16d67da2bb093ac14a05c781a398"
  }
 },
 "nbformat": 4,
 "nbformat_minor": 2
}